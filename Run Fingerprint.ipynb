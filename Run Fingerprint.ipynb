{
 "cells": [
  {
   "cell_type": "markdown",
   "metadata": {},
   "source": [
    "# Run Audio Identification Algorithm"
   ]
  },
  {
   "cell_type": "markdown",
   "metadata": {},
   "source": [
    "The following notebook is an example of how to interact with the fingerprinting system."
   ]
  },
  {
   "cell_type": "code",
   "execution_count": 2,
   "metadata": {},
   "outputs": [],
   "source": [
    "from audioidentifier.run import fingerprintBuilder, audioIdentification"
   ]
  },
  {
   "cell_type": "markdown",
   "metadata": {},
   "source": [
    "Creates a .pkl file saved  of the database object"
   ]
  },
  {
   "cell_type": "code",
   "execution_count": 8,
   "metadata": {},
   "outputs": [
    {
     "name": "stdout",
     "output_type": "stream",
     "text": [
      "loading database\n",
      "creating hashes\n",
      "database saved: database.pkl\n"
     ]
    }
   ],
   "source": [
    "fingerprintBuilder(db_file_path = '/path/to/database_recordings'\n",
    "                   ,db_save_loc = '/path/to/database/file_name')"
   ]
  },
  {
   "cell_type": "markdown",
   "metadata": {},
   "source": [
    "Runs the audio identifier"
   ]
  },
  {
   "cell_type": "code",
   "execution_count": 9,
   "metadata": {},
   "outputs": [
    {
     "name": "stdout",
     "output_type": "stream",
     "text": [
      "loading queryset\n",
      "creating query hashes\n",
      "starting loop\n",
      "audio identification complete\n"
     ]
    }
   ],
   "source": [
    "audioIdentification(q_path='/path/to/query_recordings'\n",
    "                    ,db_path='/path/to/saved/database/file_name'\n",
    "                    ,results_path='/path/to/result/output.txt')"
   ]
  }
 ],
 "metadata": {
  "kernelspec": {
   "display_name": "Python 3",
   "language": "python",
   "name": "python3"
  },
  "language_info": {
   "codemirror_mode": {
    "name": "ipython",
    "version": 3
   },
   "file_extension": ".py",
   "mimetype": "text/x-python",
   "name": "python",
   "nbconvert_exporter": "python",
   "pygments_lexer": "ipython3",
   "version": "3.11.5"
  },
  "orig_nbformat": 4
 },
 "nbformat": 4,
 "nbformat_minor": 2
}
